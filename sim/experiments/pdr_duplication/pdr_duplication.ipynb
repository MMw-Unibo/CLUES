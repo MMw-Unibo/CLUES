{
 "cells": [
  {
   "cell_type": "markdown",
   "id": "e0950fde-90bd-43bf-a1b9-4966996ead48",
   "metadata": {
    "editable": true,
    "slideshow": {
     "slide_type": ""
    },
    "tags": []
   },
   "source": [
    "# Single channel vs classic gateways"
   ]
  },
  {
   "cell_type": "code",
   "execution_count": null,
   "id": "e2811f25",
   "metadata": {},
   "outputs": [],
   "source": [
    "# SET your current working directory!\n",
    "cwd = \"/home/jovyan/work/pdr_duplication\"\n",
    "overwrite = False"
   ]
  },
  {
   "cell_type": "code",
   "execution_count": null,
   "id": "1f9d487d-66ff-4187-b41a-265e0d151747",
   "metadata": {},
   "outputs": [],
   "source": [
    "import os\n",
    "import sem\n",
    "import numpy as np\n",
    "import scipy as sp\n",
    "import pandas as pd\n",
    "from io import StringIO\n",
    "import matplotlib.pyplot as plt\n",
    "import seaborn as sns\n",
    "import scienceplots\n",
    "\n",
    "plt.style.use([\"science\", \"ieee\"])\n",
    "plt.rcParams.update({\"figure.dpi\": \"200\"})\n",
    "\n",
    "# Create our SEM campaign\n",
    "ns_3_dir = os.environ[\"NS3DIR\"]\n",
    "script = \"clues\"\n",
    "results_dir = cwd + \"/results\"\n",
    "plots_dir = cwd + \"/plots\"\n",
    "\n",
    "os.makedirs(plots_dir, exist_ok=True)\n",
    "campaign = sem.CampaignManager.new(ns_3_dir, script, results_dir, overwrite=overwrite)\n",
    "overwrite = False\n",
    "runs = 30\n",
    "\n",
    "# Define the global parameter space we are interested in exploring\n",
    "globals = {\n",
    "    \"hoursNum\": 10,\n",
    "    \"sideLength\": 9200,\n",
    "    \"devNum\": [\n",
    "        100,\n",
    "        1000,\n",
    "        2000,\n",
    "        3000,\n",
    "        4000,\n",
    "        5000,\n",
    "        6000,\n",
    "        7000,\n",
    "        8000,\n",
    "        9000,\n",
    "        10000,\n",
    "    ],\n",
    "}"
   ]
  },
  {
   "cell_type": "code",
   "execution_count": null,
   "id": "207d3de9",
   "metadata": {},
   "outputs": [],
   "source": [
    "# If the previous cell fails due to changes in the simulation code,\n",
    "# you can re-run the previous cell after running this one to fix it.\n",
    "##################### WARNING! #####################\n",
    "# It will overwrite all existing simulation results,\n",
    "# so back them up beforehand if you need them.\n",
    "overwrite = True"
   ]
  },
  {
   "cell_type": "markdown",
   "id": "6938143d-d38f-4d4a-90a1-cd5e79da22bd",
   "metadata": {},
   "source": [
    "Utility functions"
   ]
  },
  {
   "cell_type": "code",
   "execution_count": null,
   "id": "2d11cf3e",
   "metadata": {},
   "outputs": [],
   "source": [
    "def plot_size(h, gold=False):\n",
    "    letter = 1.294\n",
    "    r = sp.constants.golden if gold else letter\n",
    "    w = h * r\n",
    "    return (w, h)"
   ]
  },
  {
   "cell_type": "markdown",
   "id": "032d8ab9-f57e-4ab3-9ea2-fce60edba634",
   "metadata": {
    "tags": []
   },
   "source": [
    "## Run experiments"
   ]
  },
  {
   "cell_type": "code",
   "execution_count": null,
   "id": "419a011c-f5e1-45b2-955e-b43b83f198e3",
   "metadata": {},
   "outputs": [],
   "source": [
    "# Define the local parameter space we are interested in exploring\n",
    "params = {\n",
    "    \"gwNum\": [\n",
    "        10,\n",
    "        100,\n",
    "        1000,\n",
    "    ],\n",
    "    \"scenario\": [\"SF7Single\", \"FullRand\"],\n",
    "}\n",
    "params.update(globals)\n",
    "\n",
    "# Run simulations with the above parameter space\n",
    "print(f\"• Running missing simulations for param space: {params}.\")\n",
    "campaign.run_missing_simulations(params, runs)"
   ]
  },
  {
   "cell_type": "code",
   "execution_count": null,
   "id": "cf8880bf",
   "metadata": {},
   "outputs": [],
   "source": [
    "# Define the local parameter space we are interested in exploring\n",
    "params = {\n",
    "    \"gwNum\": 10,\n",
    "    \"scenario\": \"Classic\",\n",
    "}\n",
    "params.update(globals)\n",
    "\n",
    "# Run simulations with the above parameter space\n",
    "print(f\"• Running missing simulations for param space: {params}.\")\n",
    "campaign.run_missing_simulations(params, runs)"
   ]
  },
  {
   "cell_type": "markdown",
   "id": "4f0a880e",
   "metadata": {},
   "source": [
    "## Packet delivery outcomes"
   ]
  },
  {
   "cell_type": "code",
   "execution_count": null,
   "id": "4712d971",
   "metadata": {},
   "outputs": [],
   "source": [
    "@sem.utils.yields_multiple_results\n",
    "@sem.utils.output_labels([\"Sent\", \"_field\", \"_value\"])\n",
    "def get_outcomes(result):\n",
    "    \"\"\"\n",
    "    Extract the packet delivery outcomes from outcomes.csv\n",
    "    \"\"\"\n",
    "    df = pd.read_csv(\n",
    "        StringIO(result[\"output\"][\"outcomes.csv\"]), header=None\n",
    "    ).T.set_axis([\"f\", \"v\"], axis=1)\n",
    "    df.insert(0, \"s\", df.iloc[0, 1])\n",
    "    return df.drop(0).astype({\"s\": \"int64\", \"v\": \"int64\"}).to_numpy().tolist()\n",
    "\n",
    "\n",
    "filename = \"outcomes\"\n",
    "print(f\"• Collecting {filename} results...\")\n",
    "r = campaign.get_results_as_dataframe(\n",
    "    get_outcomes, params=globals, verbose=True, parallel_parsing=True\n",
    ")\n",
    "r[\"percent\"] = r[\"_value\"].to_numpy() / r[\"Sent\"].to_numpy() * 100\n",
    "r.to_csv(cwd + f\"/{filename}.csv\")\n",
    "r"
   ]
  },
  {
   "cell_type": "markdown",
   "id": "46ed0264-acb2-4dd5-9681-6da3d566f4b4",
   "metadata": {},
   "source": [
    "### Packet Delivery Ratio: share of packets that have been correctly received"
   ]
  },
  {
   "cell_type": "code",
   "execution_count": null,
   "id": "d7bfbe78",
   "metadata": {},
   "outputs": [],
   "source": [
    "filename = \"pdr\"\n",
    "print(f\"• Generating {filename} plot...\")\n",
    "# Load and filter data\n",
    "df = pd.read_csv(cwd + \"/outcomes.csv\")\n",
    "df = df[df[\"_field\"] == \"Received\"]\n",
    "for o, n in zip([\"SF7Single\", \"FullRand\", \"Classic\"], [\"SCSF7\", \"Random\", \"LoRaWAN\"]):\n",
    "    df.loc[df[\"scenario\"] == o, \"scenario\"] = n\n",
    "## Plot data\n",
    "w, h = plot_size(3)\n",
    "fig, ax = plt.subplots(figsize=(w, h + 0.75))\n",
    "sns.lineplot(\n",
    "    data=df,\n",
    "    y=\"percent\",\n",
    "    x=\"devNum\",\n",
    "    hue=\"scenario\",\n",
    "    style=\"gwNum\",\n",
    "    err_style=\"bars\",\n",
    "    hue_order=[\"SCSF7\", \"Random\", \"LoRaWAN\"],\n",
    "    palette=sns.cubehelix_palette(3, reverse=True),\n",
    ")\n",
    "## Global settings\n",
    "ax.set_ylim(ymin=0)\n",
    "ax.set_xlabel(\"Number of devices\")\n",
    "ax.set_ylabel(r\"Packet delivery ratio [\\%]\")\n",
    "# Legend\n",
    "labels = [i + \", \" + j for i in [\"SCSF7\", \"Random\"] for j in [\"10\", \"100\", \"1000\"]] + [\n",
    "    \"LoRaWAN, 10\"\n",
    "]\n",
    "leg = plt.legend(\n",
    "    labels, title=\"\", loc=\"upper center\", bbox_to_anchor=(0.445, -0.15), ncols=3\n",
    ")\n",
    "vboxes = leg._legend_box._children[1]._children\n",
    "vboxes[1]._children.append(vboxes[2]._children.pop(0))\n",
    "# Save to file\n",
    "plt.tight_layout()\n",
    "plt.savefig(\"{0}/{1}.{2}\".format(plots_dir, filename, \"pdf\"))\n",
    "plt.savefig(\"{0}/{1}.{2}\".format(plots_dir, filename, \"png\"))"
   ]
  },
  {
   "cell_type": "markdown",
   "id": "442889cc",
   "metadata": {},
   "source": [
    "## Packet duplication statistics "
   ]
  },
  {
   "cell_type": "code",
   "execution_count": null,
   "id": "a6486c8f",
   "metadata": {},
   "outputs": [],
   "source": [
    "@sem.utils.output_labels([\"Duplications\"])\n",
    "def get_dup_stats(result):\n",
    "    \"\"\"\n",
    "    Extract duplication statistics from duplication.csv\n",
    "    \"\"\"\n",
    "    return (\n",
    "        pd.read_csv(StringIO(result[\"output\"][\"duplication.csv\"]))\n",
    "        .to_numpy()\n",
    "        .tolist()[0]\n",
    "    )\n",
    "\n",
    "\n",
    "filename = \"duplication\"\n",
    "print(f\"• Collecting {filename} results...\")\n",
    "r = campaign.get_results_as_dataframe(\n",
    "    get_dup_stats, params=globals, verbose=True, parallel_parsing=True\n",
    ")\n",
    "r.to_csv(cwd + f\"/{filename}.csv\")\n",
    "r"
   ]
  },
  {
   "cell_type": "markdown",
   "id": "db415fb1",
   "metadata": {},
   "source": [
    "### Packet duplication index: total number of receptions divided by the number of unique packets sent"
   ]
  },
  {
   "cell_type": "code",
   "execution_count": null,
   "id": "fc28f0d6",
   "metadata": {},
   "outputs": [],
   "source": [
    "filename = \"duplication\"\n",
    "print(f\"• Generating {filename} plot...\")\n",
    "# Load and filter data\n",
    "df = pd.read_csv(cwd + \"/duplication.csv\")\n",
    "for o, n in zip([\"SF7Single\", \"FullRand\", \"Classic\"], [\"SCSF7\", \"Random\", \"LoRaWAN\"]):\n",
    "    df.loc[df[\"scenario\"] == o, \"scenario\"] = n\n",
    "## Plot data\n",
    "w, h = plot_size(3)\n",
    "fig, ax = plt.subplots(figsize=(w, h + 0.75))\n",
    "sns.lineplot(\n",
    "    data=df,\n",
    "    y=\"Duplications\",\n",
    "    x=\"devNum\",\n",
    "    hue=\"scenario\",\n",
    "    style=\"gwNum\",\n",
    "    err_style=\"bars\",\n",
    "    hue_order=[\"SCSF7\", \"Random\", \"LoRaWAN\"],\n",
    "    palette=sns.cubehelix_palette(3, reverse=True),\n",
    ")\n",
    "# Global settings\n",
    "ax.set_xlabel(\"Number of devices\")\n",
    "ax.set_ylabel(\"Avg. packet duplications\")\n",
    "ax.set_yscale(\"log\")\n",
    "labels = [i + \", \" + j for i in [\"SCSF7\", \"Random\"] for j in [\"10\", \"100\", \"1000\"]] + [\n",
    "    \"LoRaWAN, 10\"\n",
    "]\n",
    "leg = plt.legend(\n",
    "    labels, title=\"\", loc=\"upper center\", bbox_to_anchor=(0.445, -0.15), ncols=3\n",
    ")\n",
    "vboxes = leg._legend_box._children[1]._children\n",
    "vboxes[1]._children.append(vboxes[2]._children.pop(0))\n",
    "# Export\n",
    "plt.tight_layout()\n",
    "plt.savefig(\"{0}/{1}.{2}\".format(plots_dir, filename, \"pdf\"))\n",
    "plt.savefig(\"{0}/{1}.{2}\".format(plots_dir, filename, \"png\"))"
   ]
  }
 ],
 "metadata": {
  "kernelspec": {
   "display_name": "Python 3 (ipykernel)",
   "language": "python",
   "name": "python3"
  },
  "language_info": {
   "codemirror_mode": {
    "name": "ipython",
    "version": 3
   },
   "file_extension": ".py",
   "mimetype": "text/x-python",
   "name": "python",
   "nbconvert_exporter": "python",
   "pygments_lexer": "ipython3",
   "version": "3.12.8"
  }
 },
 "nbformat": 4,
 "nbformat_minor": 5
}
