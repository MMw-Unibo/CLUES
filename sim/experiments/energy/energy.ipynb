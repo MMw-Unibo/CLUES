{
 "cells": [
  {
   "cell_type": "markdown",
   "id": "e0950fde-90bd-43bf-a1b9-4966996ead48",
   "metadata": {
    "editable": true,
    "slideshow": {
     "slide_type": ""
    },
    "tags": []
   },
   "source": [
    "# Single channel vs classic gateways"
   ]
  },
  {
   "cell_type": "code",
   "execution_count": null,
   "id": "e2811f25",
   "metadata": {},
   "outputs": [],
   "source": [
    "# SET your current working directory!\n",
    "cwd = \"/home/jovyan/work/energy\"\n",
    "overwrite = False"
   ]
  },
  {
   "cell_type": "code",
   "execution_count": null,
   "id": "1f9d487d-66ff-4187-b41a-265e0d151747",
   "metadata": {},
   "outputs": [],
   "source": [
    "import os\n",
    "import sem\n",
    "import numpy as np\n",
    "import scipy as sp\n",
    "import pandas as pd\n",
    "from io import StringIO\n",
    "import matplotlib.pyplot as plt\n",
    "import seaborn as sns\n",
    "import scienceplots\n",
    "\n",
    "plt.style.use([\"science\", \"ieee\"])\n",
    "plt.rcParams.update({\"figure.dpi\": \"200\"})\n",
    "\n",
    "# Create our SEM campaign\n",
    "ns_3_dir = os.environ[\"NS3DIR\"]\n",
    "script = \"clues\"\n",
    "results_dir = cwd + \"/results\"\n",
    "plots_dir = cwd + \"/plots\"\n",
    "\n",
    "os.makedirs(plots_dir, exist_ok=True)\n",
    "campaign = sem.CampaignManager.new(ns_3_dir, script, results_dir, overwrite=overwrite)\n",
    "overwrite = False\n",
    "runs = 30"
   ]
  },
  {
   "cell_type": "code",
   "execution_count": null,
   "id": "207d3de9",
   "metadata": {},
   "outputs": [],
   "source": [
    "# If the previous cell fails due to changes in the simulation code,\n",
    "# you can re-run the previous cell after running this one to fix it.\n",
    "##################### WARNING! #####################\n",
    "# It will overwrite all existing simulation results,\n",
    "# so back them up beforehand if you need them.\n",
    "overwrite = True"
   ]
  },
  {
   "cell_type": "markdown",
   "id": "98914384-b370-4569-a757-e7ae93d730bc",
   "metadata": {},
   "source": [
    "Utility functions"
   ]
  },
  {
   "cell_type": "code",
   "execution_count": null,
   "id": "2d11cf3e",
   "metadata": {},
   "outputs": [],
   "source": [
    "def plot_size(h, gold=False):\n",
    "    letter = 1.294\n",
    "    r = sp.constants.golden if gold else letter\n",
    "    w = h * r\n",
    "    return (w, h)"
   ]
  },
  {
   "cell_type": "markdown",
   "id": "032d8ab9-f57e-4ab3-9ea2-fce60edba634",
   "metadata": {
    "tags": []
   },
   "source": [
    "## Run experiments"
   ]
  },
  {
   "cell_type": "code",
   "execution_count": null,
   "id": "419a011c-f5e1-45b2-955e-b43b83f198e3",
   "metadata": {},
   "outputs": [],
   "source": [
    "# Define the parameter space we are interested in exploring\n",
    "params = {\n",
    "    \"hoursNum\": 10,\n",
    "    \"sideLength\": 9200,\n",
    "    \"devNum\": 10000,\n",
    "    \"gwNum\": list(range(1, 11, 1)),\n",
    "    \"scenario\": [\"SF7Single\", \"FullRand\", \"Classic\"],\n",
    "}\n",
    "\n",
    "# Run simulations with the above parameter space\n",
    "print(f\"• Running missing simulations for param space: {params}.\")\n",
    "campaign.run_missing_simulations(params, runs)"
   ]
  },
  {
   "cell_type": "markdown",
   "id": "92e89663",
   "metadata": {},
   "source": [
    "## LoRa transmitters' energy consumption"
   ]
  },
  {
   "cell_type": "code",
   "execution_count": null,
   "id": "96b928e8",
   "metadata": {},
   "outputs": [],
   "source": [
    "@sem.utils.output_labels([\"TotalEnergyJ\"])\n",
    "def get_energy(result):\n",
    "    \"\"\"\n",
    "    Extract the total energy consumption from energy.csv\n",
    "    \"\"\"\n",
    "    return pd.read_csv(StringIO(result[\"output\"][\"energy.csv\"]))[\"TotalEnergyJ\"].iloc[0]\n",
    "\n",
    "\n",
    "filename = \"energy\"\n",
    "print(f\"• Collecting {filename} results...\")\n",
    "r = campaign.get_results_as_dataframe(get_energy, verbose=True, parallel_parsing=True)\n",
    "r[\"TotalEnergyWh\"] = r[\"TotalEnergyJ\"].to_numpy() / 3600\n",
    "r.to_csv(cwd + f\"/{filename}.csv\")\n",
    "r"
   ]
  },
  {
   "cell_type": "markdown",
   "id": "b3d76d04",
   "metadata": {},
   "source": [
    "### Total energy consumption [Wh]"
   ]
  },
  {
   "cell_type": "code",
   "execution_count": null,
   "id": "10c9b4c5",
   "metadata": {},
   "outputs": [],
   "source": [
    "filename = \"energy\"\n",
    "print(f\"• Generating {filename} plot...\")\n",
    "# Load and filter data\n",
    "df = pd.read_csv(cwd + \"/energy.csv\")\n",
    "for o, n in zip([\"SF7Single\", \"FullRand\", \"Classic\"], [\"SCSF7\", \"Random\", \"LoRaWAN\"]):\n",
    "    df.loc[df[\"scenario\"] == o, \"scenario\"] = n\n",
    "## Plot data\n",
    "fig, ax = plt.subplots(figsize=plot_size(3))\n",
    "sns.lineplot(\n",
    "    data=df,\n",
    "    y=\"TotalEnergyWh\",\n",
    "    x=\"gwNum\",\n",
    "    hue=\"scenario\",\n",
    "    style=\"scenario\",\n",
    "    err_style=\"bars\",\n",
    "    hue_order=[\"SCSF7\", \"Random\", \"LoRaWAN\"],\n",
    "    style_order=[\"SCSF7\", \"Random\", \"LoRaWAN\"],\n",
    ")\n",
    "# Global settings\n",
    "ax.set_xlabel(\"Number of gateways\")\n",
    "ax.set_ylabel(\"Energy consumption [Wh]\")\n",
    "handles, labels = ax.get_legend_handles_labels()\n",
    "plt.legend(handles[::-1], labels[::-1], title=None)\n",
    "ax.set_xticks(\n",
    "    range(1, 11, 1),\n",
    ")\n",
    "ax.xaxis.minorticks_off()\n",
    "# Export\n",
    "plt.tight_layout()\n",
    "plt.savefig(\"{0}/{1}.{2}\".format(plots_dir, filename, \"pdf\"))\n",
    "plt.savefig(\"{0}/{1}.{2}\".format(plots_dir, filename, \"png\"))"
   ]
  }
 ],
 "metadata": {
  "kernelspec": {
   "display_name": "Python 3 (ipykernel)",
   "language": "python",
   "name": "python3"
  },
  "language_info": {
   "codemirror_mode": {
    "name": "ipython",
    "version": 3
   },
   "file_extension": ".py",
   "mimetype": "text/x-python",
   "name": "python",
   "nbconvert_exporter": "python",
   "pygments_lexer": "ipython3",
   "version": "3.12.8"
  }
 },
 "nbformat": 4,
 "nbformat_minor": 5
}
